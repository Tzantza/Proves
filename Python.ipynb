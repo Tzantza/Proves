{
  "cells": [
    {
      "cell_type": "markdown",
      "metadata": {},
      "source": [
        "# Python"
      ]
    },
    {
      "cell_type": "markdown",
      "metadata": {},
      "source": [
        "## Floats"
      ]
    },
    {
      "cell_type": "markdown",
      "metadata": {},
      "source": [
        "- Los floats se usan en Python para representar números que no son enteros (números completos).\n",
        "- Algunos ejemplos de números que son representados como floats son 0.5 y -7.8237591.\n",
        "- Se pueden crear directamente ingresando un número con un punto decimal, o usando operaciones como la división en enteros."
      ]
    },
    {
      "cell_type": "markdown",
      "metadata": {},
      "source": [
        "- Dividir cualquiera de los dos enteros produce un float."
      ]
    },
    {
      "cell_type": "code",
      "execution_count": 4,
      "metadata": {
        "trusted": true
      },
      "outputs": [
        {
          "name": "stdout",
          "output_type": "stream",
          "text": [
            "4.0\n"
          ]
        }
      ],
      "source": [
        "print( 8 / 2 )"
      ]
    },
    {
      "cell_type": "markdown",
      "metadata": {},
      "source": [
        "## Exponenciación\n"
      ]
    },
    {
      "cell_type": "markdown",
      "metadata": {},
      "source": [
        "- Además de la suma, la resta, la multiplicación y la división, Python también soporta la exponenciación, que es la elevación de un número a la potencia de otro.\n",
        "- Esta operación se realiza usando dos asteriscos."
      ]
    },
    {
      "cell_type": "code",
      "execution_count": 14,
      "metadata": {
        "trusted": true
      },
      "outputs": [
        {
          "name": "stdout",
          "output_type": "stream",
          "text": [
            "32\n"
          ]
        }
      ],
      "source": [
        "print( 2**5 )"
      ]
    },
    {
      "cell_type": "markdown",
      "metadata": {},
      "source": [
        "- También funciona con Floats"
      ]
    },
    {
      "cell_type": "code",
      "execution_count": 15,
      "metadata": {
        "trusted": true
      },
      "outputs": [
        {
          "name": "stdout",
          "output_type": "stream",
          "text": [
            "3.0\n"
          ]
        }
      ],
      "source": [
        "print( 9 ** (1/2) )"
      ]
    },
    {
      "cell_type": "markdown",
      "metadata": {},
      "source": [
        "## Cociente"
      ]
    },
    {
      "cell_type": "markdown",
      "metadata": {},
      "source": [
        "La división entera se realiza mediante dos barras oblicuas y se utiliza para determinar el cociente de una división (la cantidad producida por la división de dos números)."
      ]
    },
    {
      "cell_type": "code",
      "execution_count": 16,
      "metadata": {
        "trusted": true
      },
      "outputs": [
        {
          "name": "stdout",
          "output_type": "stream",
          "text": [
            "3\n"
          ]
        }
      ],
      "source": [
        "print( 20 // 6 ) "
      ]
    },
    {
      "cell_type": "markdown",
      "metadata": {},
      "source": [
        "El código anterior generará 3, porque 6 entra en 20 tres veces."
      ]
    },
    {
      "cell_type": "markdown",
      "metadata": {},
      "source": [
        "## Resto"
      ]
    },
    {
      "cell_type": "markdown",
      "metadata": {},
      "source": [
        "El operador de módulo se lleva a cabo con un símbolo de porcentaje (%) y se utiliza para obtener el resto de una división."
      ]
    },
    {
      "cell_type": "code",
      "execution_count": 17,
      "metadata": {
        "trusted": true
      },
      "outputs": [
        {
          "name": "stdout",
          "output_type": "stream",
          "text": [
            "2\n"
          ]
        }
      ],
      "source": [
        "print(20 % 6)"
      ]
    },
    {
      "cell_type": "markdown",
      "metadata": {},
      "source": [
        "la diferencia de quants 6 entren dins de 20, en aquest cas entren 3 sisos, per tant sobren 2"
      ]
    },
    {
      "cell_type": "code",
      "execution_count": 18,
      "metadata": {
        "trusted": true
      },
      "outputs": [
        {
          "name": "stdout",
          "output_type": "stream",
          "text": [
            "1\n"
          ]
        }
      ],
      "source": [
        "print( 7%(5 // 2) )"
      ]
    },
    {
      "cell_type": "markdown",
      "metadata": {},
      "source": [
        "### Exemples"
      ]
    },
    {
      "cell_type": "code",
      "execution_count": null,
      "metadata": {
        "trusted": true
      },
      "outputs": [],
      "source": [
        "print( (3**2)//2 )"
      ]
    },
    {
      "cell_type": "markdown",
      "metadata": {},
      "source": [
        "- Potencia: Primero se evalúa la operación de la potencia 3**2. Esto es equivalente a elevar 3 al cuadrado: 9\n",
        "- División entera: Luego, se toma el resultado de la potencia (9) y se realiza una división entera entre 2, usando el operador //. La división entera se realiza descartando cualquier parte decimal: 9//2=4(ya que 9/2=4.5,pero solo se toma la parte entera, que es 4)\n",
        "- Finalmente, el resultado de la expresión es 4. Por eso, al hacer print((3**2)//2), se imprime el valor 4."
      ]
    },
    {
      "cell_type": "markdown",
      "metadata": {
        "trusted": true
      },
      "source": [
        "## Cadenas de texto\n"
      ]
    },
    {
      "cell_type": "markdown",
      "metadata": {},
      "source": [
        "Si quieres usar el texto en Python, tienes que usar una cadena de texto.\n",
        "Una cadena de texto se crea introduciendo el texto entre dos comillas simples o dobles."
      ]
    },
    {
      "cell_type": "code",
      "execution_count": 5,
      "metadata": {},
      "outputs": [
        {
          "name": "stdout",
          "output_type": "stream",
          "text": [
            "¡Python es divertido!\n",
            "Siempre mira el lado positivo de la vida\n"
          ]
        }
      ],
      "source": [
        "print(\"¡Python es divertido!\")\n",
        "\n",
        "print('Siempre mira el lado positivo de la vida')  "
      ]
    },
    {
      "cell_type": "markdown",
      "metadata": {},
      "source": [
        "Algunos caracteres no se pueden incluir directamente en una cadena. Por ejemplo, las comillas dobles no se pueden incluir directamente en una cadena de comillas dobles; esto haría que terminara prematuramente.\n",
        "\n",
        "Los caracteres como estos deben escaparse colocando una barra diagonal inversa antes que ellos.\n",
        "Las comillas dobles solo necesitan escaparse de las cadenas de comillas dobles, y lo mismo es cierto para las cadenas de comillas simples."
      ]
    },
    {
      "cell_type": "code",
      "execution_count": 1,
      "metadata": {},
      "outputs": [
        {
          "name": "stdout",
          "output_type": "stream",
          "text": [
            "Brian's mother: He's not an angel. He's a very naughty boy!\n"
          ]
        }
      ],
      "source": [
        "print('Brian\\'s mother: He\\'s not an angel. He\\'s a very naughty boy!')"
      ]
    },
    {
      "cell_type": "markdown",
      "metadata": {},
      "source": [
        "## Saltos de línea\n"
      ]
    },
    {
      "cell_type": "markdown",
      "metadata": {},
      "source": [
        "\\n representa una nueva línea.\n",
        "Puede utilizarse en cadenas para crear una salida multilínea:"
      ]
    },
    {
      "cell_type": "markdown",
      "metadata": {},
      "source": [
        "De forma similar, \\t representa una tabulación.\n",
        "\n"
      ]
    },
    {
      "cell_type": "code",
      "execution_count": 2,
      "metadata": {},
      "outputs": [
        {
          "name": "stdout",
          "output_type": "stream",
          "text": [
            "One\n",
            "Two\n",
            "Three\n"
          ]
        }
      ],
      "source": [
        "print('One\\nTwo\\nThree')"
      ]
    },
    {
      "cell_type": "markdown",
      "metadata": {},
      "source": [
        "Se añadirán automáticamente nuevas líneas para las cadenas que se creen usando tres comillas.\n",
        "\n"
      ]
    },
    {
      "cell_type": "code",
      "execution_count": 3,
      "metadata": {},
      "outputs": [
        {
          "name": "stdout",
          "output_type": "stream",
          "text": [
            "this\n",
            "is a\n",
            "multiline\n",
            "text\n"
          ]
        }
      ],
      "source": [
        "print(\"\"\"this\n",
        "is a\n",
        "multiline\n",
        "text\"\"\")"
      ]
    },
    {
      "cell_type": "markdown",
      "metadata": {},
      "source": [
        "## Concatenación"
      ]
    },
    {
      "cell_type": "markdown",
      "metadata": {},
      "source": [
        "Al igual que con los números enteros y los floats, las cadenas en Python se pueden añadir, usando un proceso llamado concatenación, que puede hacerse con dos cadenas cualquiera."
      ]
    },
    {
      "cell_type": "code",
      "execution_count": 5,
      "metadata": {},
      "outputs": [
        {
          "name": "stdout",
          "output_type": "stream",
          "text": [
            "Spameggs\n"
          ]
        }
      ],
      "source": [
        "print(\"Spam\" + 'eggs')"
      ]
    },
    {
      "cell_type": "markdown",
      "metadata": {},
      "source": [
        "Incluso si tus cadenas contienen números, se añaden como cadenas en lugar de números enteros.\n",
        "\n"
      ]
    },
    {
      "cell_type": "code",
      "execution_count": 6,
      "metadata": {},
      "outputs": [
        {
          "name": "stdout",
          "output_type": "stream",
          "text": [
            "22\n"
          ]
        }
      ],
      "source": [
        "print(\"2\" + \"2\")\n"
      ]
    },
    {
      "cell_type": "markdown",
      "metadata": {},
      "source": [
        "Las cadenas también pueden ser multiplicadas por números enteros. Esto produce una versión repetida de la cadena original. El orden de la cadena y el número entero no importa, pero la cadena suele ir primero."
      ]
    },
    {
      "cell_type": "code",
      "execution_count": 7,
      "metadata": {},
      "outputs": [
        {
          "name": "stdout",
          "output_type": "stream",
          "text": [
            "spamspamspam\n",
            "2222\n"
          ]
        }
      ],
      "source": [
        "print(\"spam\" * 3)\n",
        "\n",
        "print(4 * '2')"
      ]
    },
    {
      "cell_type": "markdown",
      "metadata": {},
      "source": [
        "## Variables"
      ]
    },
    {
      "cell_type": "markdown",
      "metadata": {},
      "source": [
        "Una variable permite almacenar un valor asignándole un nombre, que puede ser usado para referirse al valor más adelante en el programa.\n",
        "\n",
        "Por ejemplo, en el desarrollo de un juego, se usaría una variable para almacenar los puntos del jugador.\n",
        "\n",
        "Para asignar una variable, usa un signo igual."
      ]
    },
    {
      "cell_type": "markdown",
      "metadata": {},
      "source": [
        "*user = \"James\"*"
      ]
    },
    {
      "cell_type": "markdown",
      "metadata": {},
      "source": [
        "Se aplican ciertas restricciones con respecto a los caracteres que se pueden usar en los nombres de variables de Python. Los únicos caracteres permitidos son letras, números y guiones bajos. Además, <u>**no pueden comenzar con números o incluir espacios**</u>.\n",
        "No seguir estas reglas da como resultado errores."
      ]
    },
    {
      "cell_type": "markdown",
      "metadata": {},
      "source": [
        "### Trabajar con Variables"
      ]
    },
    {
      "cell_type": "markdown",
      "metadata": {},
      "source": [
        "Puedes utilizar variables para realizar las operaciones correspondientes, tal como hiciste con los números y las cadenas:"
      ]
    },
    {
      "cell_type": "code",
      "execution_count": 8,
      "metadata": {},
      "outputs": [
        {
          "name": "stdout",
          "output_type": "stream",
          "text": [
            "7\n",
            "10\n",
            "7\n"
          ]
        }
      ],
      "source": [
        "x = 7\n",
        "print(x)\n",
        "\n",
        "print(x + 3)\n",
        "print(x)"
      ]
    },
    {
      "cell_type": "markdown",
      "metadata": {},
      "source": [
        "Las variables se pueden reasignar tantas veces como desee, para cambiar su valor.\n",
        "En Python, las variables no tienen tipos específicos, por lo que puede asignar una cadena a una variable y luego asignar un número entero a la misma variable."
      ]
    },
    {
      "cell_type": "code",
      "execution_count": 9,
      "metadata": {},
      "outputs": [
        {
          "name": "stdout",
          "output_type": "stream",
          "text": [
            "123.456\n",
            "Esto es una cadena!\n"
          ]
        }
      ],
      "source": [
        "x = 123.456\n",
        "print(x)\n",
        " \n",
        "x = \"Esto es una cadena\"\n",
        "print(x + \"!\")"
      ]
    },
    {
      "cell_type": "markdown",
      "metadata": {},
      "source": [
        "<u>Els valors han d'anar sense \"\" "
      ]
    },
    {
      "cell_type": "markdown",
      "metadata": {},
      "source": [
        "## Input"
      ]
    },
    {
      "cell_type": "markdown",
      "metadata": {},
      "source": [
        "Para obtener información del usuario en Python, puede usar la función de input con nombre intuitivo.\n",
        "Por ejemplo, un juego puede solicitar el nombre y la edad del usuario como entrada y usarlos en el juego.\n",
        "\n",
        "La función de input solicita al usuario la entrada y devuelve lo que ingresa como una cadena (con el contenido de escape automáticamente)."
      ]
    },
    {
      "cell_type": "code",
      "execution_count": 13,
      "metadata": {},
      "outputs": [
        {
          "name": "stdout",
          "output_type": "stream",
          "text": [
            "heyyyy\n"
          ]
        }
      ],
      "source": [
        "x = input()\n",
        "print(x)"
      ]
    },
    {
      "cell_type": "markdown",
      "metadata": {},
      "source": [
        "<u>La declaración input debe ir seguida de paréntesis.\n",
        "Puedes proporcionar una cadena para input () entre paréntesis, produciendo un mensaje de solicitud."
      ]
    },
    {
      "cell_type": "code",
      "execution_count": 14,
      "metadata": {},
      "outputs": [
        {
          "name": "stdout",
          "output_type": "stream",
          "text": [
            "Hola, Ferran\n"
          ]
        }
      ],
      "source": [
        "name = input(\"Introduce tu nombre: \")\n",
        " \n",
        "print(\"Hola, \" + name) "
      ]
    },
    {
      "cell_type": "markdown",
      "metadata": {},
      "source": [
        "Puedes usar input () varias veces para tomar múltiples inputs de usuario.\n",
        "\n"
      ]
    },
    {
      "cell_type": "code",
      "execution_count": 24,
      "metadata": {},
      "outputs": [
        {
          "name": "stdout",
          "output_type": "stream",
          "text": [
            "Ferran es 31\n"
          ]
        }
      ],
      "source": [
        "nombre = input(\"Nom\")\n",
        "edad = input(\"Edat\")\n",
        " \n",
        "print(nombre + \" es \" + edad) "
      ]
    },
    {
      "cell_type": "markdown",
      "metadata": {},
      "source": [
        "## Entrada"
      ]
    },
    {
      "cell_type": "markdown",
      "metadata": {},
      "source": [
        "Supongamos que queremos tomar la edad del usuario como entrada\n",
        "Sabemos que la función input() devuelve una cadena.\n",
        "Para convertirlo en un número, podemos usar la función int()"
      ]
    },
    {
      "cell_type": "code",
      "execution_count": 19,
      "metadata": {},
      "outputs": [
        {
          "name": "stdout",
          "output_type": "stream",
          "text": [
            "31\n"
          ]
        }
      ],
      "source": [
        "edad = int(input())\n",
        "print(edad) "
      ]
    },
    {
      "cell_type": "markdown",
      "metadata": {},
      "source": [
        "el int() es per converir el input en un valor numeric, no un valor normal."
      ]
    },
    {
      "cell_type": "markdown",
      "metadata": {},
      "source": [
        "Del mismo modo, para convertir un número en una cadena, se utiliza la función str(). Esto puede ser útil si necesitas usar un número en la concatenación de cadenas."
      ]
    },
    {
      "cell_type": "code",
      "execution_count": 20,
      "metadata": {},
      "outputs": [
        {
          "name": "stdout",
          "output_type": "stream",
          "text": [
            "Su edad es42\n"
          ]
        }
      ],
      "source": [
        "edad = 42\n",
        "print(\"Su edad es\" + str(edad)) "
      ]
    },
    {
      "cell_type": "markdown",
      "metadata": {},
      "source": [
        "Puedes convertir a float usando la función float()."
      ]
    },
    {
      "cell_type": "markdown",
      "metadata": {},
      "source": [
        "## Operadores in situ"
      ]
    },
    {
      "cell_type": "markdown",
      "metadata": {},
      "source": [
        "Los operadores in situ te permiten escribir código como 'x = x + 3' de manera más concisa, como 'x + = 3'.\n",
        "Lo mismo es posible con otros operadores como -, *, / y% también."
      ]
    },
    {
      "cell_type": "code",
      "execution_count": 25,
      "metadata": {},
      "outputs": [
        {
          "name": "stdout",
          "output_type": "stream",
          "text": [
            "2\n",
            "5\n"
          ]
        }
      ],
      "source": [
        "x = 2\n",
        "print(x)\n",
        "\n",
        "x += 3\n",
        "print(x)"
      ]
    },
    {
      "cell_type": "markdown",
      "metadata": {},
      "source": [
        "la operació += canvia el valor de la x per una nova, també es pot multiplicar, dividir, restar.."
      ]
    },
    {
      "cell_type": "code",
      "execution_count": 4,
      "metadata": {},
      "outputs": [
        {
          "name": "stdout",
          "output_type": "stream",
          "text": [
            "aaa\n"
          ]
        }
      ],
      "source": [
        "x=\"a\"\n",
        "x*=3\n",
        "print(x)"
      ]
    },
    {
      "cell_type": "markdown",
      "metadata": {},
      "source": [
        "aaa"
      ]
    },
    {
      "cell_type": "markdown",
      "metadata": {},
      "source": [
        "### Operador Walrus\n"
      ]
    },
    {
      "cell_type": "markdown",
      "metadata": {},
      "source": [
        "El operador Walrus := te permite asignar valores a las variables dentro de una expresión, incluidas las variables que aún no existen.\n",
        "\n",
        "Supongamos que queremos tomar un número entero del usuario, asignarlo a una variable num y generarlo:\n",
        "\n"
      ]
    },
    {
      "cell_type": "markdown",
      "metadata": {},
      "source": [
        "Exemple: Rellena los espacios en blanco para producir un código que tome el texto como entrada, lo asigne a la variable de nombre y lo genere.\n",
        "\n",
        "print(name\n",
        ":=\n",
        "input())\n"
      ]
    },
    {
      "cell_type": "markdown",
      "metadata": {},
      "source": [
        "## Examen fins aqui"
      ]
    },
    {
      "cell_type": "code",
      "execution_count": 3,
      "metadata": {},
      "outputs": [
        {
          "name": "stdout",
          "output_type": "stream",
          "text": [
            "73.0\n"
          ]
        }
      ],
      "source": [
        "spam = \"7\"            # Inicializa la variable 'spam' como una cadena que contiene \"7\"\n",
        "spam = spam + \"0\"     # Concatenamos \"0\" a 'spam', así que 'spam' ahora es \"70\"\n",
        "eggs = int(spam) + 3  # Convertimos 'spam' a un entero (70) y le sumamos 3, así que 'eggs' es 73\n",
        "print(float(eggs))    # Convertimos 'eggs' a un número de punto flotante y lo imprimimos"
      ]
    },
    {
      "cell_type": "code",
      "execution_count": 2,
      "metadata": {},
      "outputs": [
        {
          "name": "stdout",
          "output_type": "stream",
          "text": [
            "2\n"
          ]
        }
      ],
      "source": [
        "x = 3          # Inicializa 'x' con el valor 3\n",
        "num = 17       # Inicializa 'num' con el valor 17\n",
        "print(num % x) # Imprime el residuo de la división de 'num' entre 'x'"
      ]
    },
    {
      "cell_type": "markdown",
      "metadata": {},
      "source": [
        "\t•\tLa operación num % x calcula el residuo de la división de 17 entre 3.\n",
        "\t•\tCuando divides 17 entre 3, el cociente es 5 y el residuo es 2, ya que  17 = 3 \\times 5 + 2 ."
      ]
    },
    {
      "cell_type": "markdown",
      "metadata": {},
      "source": [
        "Calculadora simple\n"
      ]
    },
    {
      "cell_type": "code",
      "execution_count": 1,
      "metadata": {},
      "outputs": [
        {
          "name": "stdout",
          "output_type": "stream",
          "text": [
            "5\n"
          ]
        }
      ],
      "source": [
        "x=int(input())\n",
        "y=int(input())\n",
        "print(x+y)"
      ]
    },
    {
      "cell_type": "markdown",
      "metadata": {},
      "source": [
        "## Booleanos"
      ]
    },
    {
      "cell_type": "markdown",
      "metadata": {},
      "source": [
        "Otro tipo en Python es el tipo booleano. Hay dos valores booleanos: True y False.\n",
        "Se pueden crear comparando valores, por ejemplo, utilizando el operador igual ==."
      ]
    },
    {
      "cell_type": "code",
      "execution_count": 6,
      "metadata": {},
      "outputs": [
        {
          "name": "stdout",
          "output_type": "stream",
          "text": [
            "True\n",
            "False\n",
            "True\n"
          ]
        }
      ],
      "source": [
        "my_boolean = True\n",
        "print(my_boolean)\n",
        "\n",
        "print(2 == 3)\n",
        "\n",
        "print(\"hello\" == \"hello\")"
      ]
    },
    {
      "cell_type": "markdown",
      "metadata": {},
      "source": [
        "Python también tiene operadores que determinan si un número (float o entero) es mayor o menor que otro. Estos operadores son> y < respectivamente."
      ]
    },
    {
      "cell_type": "code",
      "execution_count": 9,
      "metadata": {},
      "outputs": [
        {
          "name": "stdout",
          "output_type": "stream",
          "text": [
            "True\n",
            "False\n"
          ]
        }
      ],
      "source": [
        "print(7 > 5)\n",
        "\n",
        "print(10 < 10)"
      ]
    },
    {
      "cell_type": "markdown",
      "metadata": {},
      "source": [
        "### Comparación"
      ]
    },
    {
      "cell_type": "markdown",
      "metadata": {},
      "source": [
        "Otro operador de comparación, el operador no igual (! =), Se evalúa como True si los elementos que se comparan no son iguales y False si lo son."
      ]
    },
    {
      "cell_type": "code",
      "execution_count": 8,
      "metadata": {},
      "outputs": [
        {
          "name": "stdout",
          "output_type": "stream",
          "text": [
            "False\n",
            "True\n",
            "True\n"
          ]
        }
      ],
      "source": [
        "print(1 != 1)\n",
        "\n",
        "print(\"eleven\" != \"seven\")\n",
        "\n",
        "print(2 != 10)"
      ]
    },
    {
      "cell_type": "markdown",
      "metadata": {},
      "source": [
        "<u>Los operadores de comparación también se denominan operadores relacionales."
      ]
    },
    {
      "cell_type": "markdown",
      "metadata": {},
      "source": [
        "Los operadores mayor o igual que, y menor o igual a son> = y <=.\n",
        "Son los mismos que los operadores estrictos mayores y menores que los operadores, excepto que devuelven True al comparar números iguales."
      ]
    },
    {
      "cell_type": "code",
      "execution_count": 12,
      "metadata": {},
      "outputs": [
        {
          "name": "stdout",
          "output_type": "stream",
          "text": [
            "True\n",
            "True\n"
          ]
        }
      ],
      "source": [
        "print(7 <= 8)\n",
        "print(9 >= 9.0)"
      ]
    },
    {
      "cell_type": "markdown",
      "metadata": {},
      "source": [
        "Los operadores mayores que y menores que también se pueden usar para comparar cadenas lexicográficamente (el orden alfabético de las palabras se basa en el orden alfabético de sus letras componentes)."
      ]
    },
    {
      "cell_type": "code",
      "execution_count": 13,
      "metadata": {},
      "outputs": [
        {
          "name": "stdout",
          "output_type": "stream",
          "text": [
            "True\n"
          ]
        }
      ],
      "source": [
        "print(\"Annie\" > \"Andy\")"
      ]
    },
    {
      "cell_type": "markdown",
      "metadata": {},
      "source": [
        "## Declaraciones condicionales \"if\"\n"
      ]
    },
    {
      "cell_type": "markdown",
      "metadata": {},
      "source": [
        "Puedes usar declaraciones if para ejecutar código si se cumple una determinada condición.\n",
        "Si una expresión se evalúa como True, se llevan a cabo algunas declaraciones. De lo contrario, no se llevan a cabo.\n",
        "Una declaración if se ve así:"
      ]
    },
    {
      "cell_type": "markdown",
      "metadata": {},
      "source": [
        "<u>Python usa indentación (espacio en blanco al comienzo de una línea) para delimitar bloques de código.\n",
        "Como puedes ver, las declaraciones en el if deben indentarse."
      ]
    },
    {
      "cell_type": "code",
      "execution_count": 15,
      "metadata": {},
      "outputs": [
        {
          "name": "stdout",
          "output_type": "stream",
          "text": [
            "10 greater than 5\n",
            "Program ended\n"
          ]
        }
      ],
      "source": [
        "if 10 > 5:\n",
        "    print(\"10 greater than 5\")\n",
        "\n",
        "print(\"Program ended\")"
      ]
    },
    {
      "cell_type": "markdown",
      "metadata": {},
      "source": [
        "La expresión determina si 10 es mayor que cinco. Como es así, se ejecuta la instrucción con indentación y se emite \"10 mayor que 5\". Luego, se ejecuta la instrucción no indentada, que no forma parte de la instrucción if, y se muestra \"Programa finalizado\"."
      ]
    },
    {
      "cell_type": "markdown",
      "metadata": {},
      "source": [
        "<u>Ten en cuenta los dos puntos al final de la expresión en la instrucción if."
      ]
    },
    {
      "cell_type": "code",
      "execution_count": 20,
      "metadata": {},
      "outputs": [
        {
          "name": "stdout",
          "output_type": "stream",
          "text": [
            "Boiling\n"
          ]
        }
      ],
      "source": [
        "temp = int(input())\n",
        "if temp >= 100:\n",
        "    print (\"Boiling\")"
      ]
    },
    {
      "cell_type": "markdown",
      "metadata": {},
      "source": [
        "Para realizar comprobaciones más complejas, si las sentencias se pueden anidar, una dentro de la otra.\n",
        "Esto significa que la instrucción if interna es la parte de instrucción de la externa. Ésta es una forma de ver si se cumplen varias condiciones."
      ]
    },
    {
      "cell_type": "code",
      "execution_count": 23,
      "metadata": {},
      "outputs": [
        {
          "name": "stdout",
          "output_type": "stream",
          "text": [
            "Bigger than 5\n",
            "Between 5 and 47\n"
          ]
        }
      ],
      "source": [
        "num = 12\n",
        "if num > 5:\n",
        "    print(\"Bigger than 5\")\n",
        "    if num <=47:\n",
        "        print(\"Between 5 and 47\")"
      ]
    },
    {
      "cell_type": "markdown",
      "metadata": {},
      "source": [
        "La indentación se utiliza para definir el nivel de anidamiento.\n",
        "\n",
        "Recordar que la indetación es l'espai tipus tabulació"
      ]
    },
    {
      "cell_type": "markdown",
      "metadata": {},
      "source": [
        "## Declaraciones condicionales \"else\""
      ]
    },
    {
      "cell_type": "markdown",
      "metadata": {},
      "source": [
        "La declaración if permite comprobar una condición y ejecutar algunas declaraciones, si la condición es True.\n",
        "\n",
        "La declaración else puede ser usada para ejecutar algunas declaraciones cuando la condición de la declaración if es False.\n",
        "\n",
        "Como en el caso de las declaraciones if, el código dentro del bloque debe ser indentado."
      ]
    },
    {
      "cell_type": "code",
      "execution_count": 24,
      "metadata": {},
      "outputs": [
        {
          "name": "stdout",
          "output_type": "stream",
          "text": [
            "No\n"
          ]
        }
      ],
      "source": [
        "x = 4\n",
        "if x == 5:\n",
        "    print(\"Yes\")\n",
        "else:\n",
        "    print(\"No\")"
      ]
    },
    {
      "cell_type": "markdown",
      "metadata": {},
      "source": [
        "<u>Ten en cuenta los dos puntos después de la palabra clave else.\n",
        "\n"
      ]
    },
    {
      "cell_type": "code",
      "execution_count": 28,
      "metadata": {},
      "outputs": [
        {
          "name": "stdout",
          "output_type": "stream",
          "text": [
            "Bienvenido Ferran\n"
          ]
        }
      ],
      "source": [
        "age = int(input())\n",
        "name = input()\n",
        "if age >= 18:\n",
        "    print (\"Bienvenido \" + name)\n",
        "else:\n",
        "    print (\"Lo siento\")"
      ]
    },
    {
      "cell_type": "markdown",
      "metadata": {},
      "source": [
        "¿Cuál es el resultado de este código?\n",
        "\n",
        "if 1 + 1 == 2:\n",
        "\n",
        "if 2 * 2 == 8:\n",
        "\n",
        "print(\"if\")\n",
        "\n",
        "else:\n",
        "\n",
        "print(\"else\")\n",
        "\n"
      ]
    },
    {
      "cell_type": "markdown",
      "metadata": {},
      "source": [
        "\t1.\tEl primer if evalúa 1 + 1 == 2, que es verdadero, por lo que entra en el bloque if.\n",
        "\t2.\tDentro de este bloque, el segundo if evalúa 2 * 2 == 8, que es falso.\n",
        "\t3.\tComo el segundo if es falso, se ejecuta el else correspondiente, imprimiendo \"else\".\n",
        "\tPor lo tanto el resultado es else"
      ]
    },
    {
      "cell_type": "markdown",
      "metadata": {},
      "source": [
        "Cada bloque de condición if solo puede tener una declaración más.\n",
        "Para realizar múltiples verificaciones, puede encadenar declaraciones if y else.\n",
        "\n",
        "Por ejemplo, el siguiente programa verifica y genera el valor de la variable num como texto:"
      ]
    },
    {
      "cell_type": "code",
      "execution_count": 30,
      "metadata": {},
      "outputs": [
        {
          "name": "stdout",
          "output_type": "stream",
          "text": [
            "Three\n"
          ]
        }
      ],
      "source": [
        "num = 3\n",
        "if num == 1:\n",
        "    print(\"One\")\n",
        "else: \n",
        "    if num == 2:\n",
        "        print(\"Two\")\n",
        "    else: \n",
        "        if num == 3: \n",
        "            print(\"Three\")\n",
        "        else: \n",
        "            print(\"Something else\")"
      ]
    },
    {
      "cell_type": "markdown",
      "metadata": {},
      "source": [
        "### Declaraciones condicionales \"elif\""
      ]
    },
    {
      "cell_type": "markdown",
      "metadata": {},
      "source": [
        "Múltiples declaraciones if/else hacen que el código sea largo y poco legible.\n",
        "La declaración elif (abreviatura de else if) es un atajo para usar cuando se encadenan declaraciones if y else, haciendo el código más corto.\n",
        "\n",
        "El mismo ejemplo anterior puede reescribirse utilizando declaraciones elif:"
      ]
    },
    {
      "cell_type": "code",
      "execution_count": 31,
      "metadata": {},
      "outputs": [
        {
          "name": "stdout",
          "output_type": "stream",
          "text": [
            "Tres\n"
          ]
        }
      ],
      "source": [
        "num = 3\n",
        "if num == 1:\n",
        "    print(\"Uno\")\n",
        "elif num == 2:\n",
        "    print(\"Dos\")\n",
        "elif num == 3: \n",
        "    print(\"Tres\")\n",
        "else: \n",
        "    print(\"Otra cosa\")"
      ]
    },
    {
      "cell_type": "markdown",
      "metadata": {},
      "source": [
        "Como se puede ver en el ejemplo anterior, una serie de declaraciones if elif pueden tener un bloque final else, que se llama si ninguna de las expresiones if o elif es verdadera.\n",
        "\n"
      ]
    },
    {
      "cell_type": "markdown",
      "metadata": {},
      "source": [
        "<u>la declaración elif es equivalente a una declaración else/if. Se usa para hacer el código más corto, más legible y evitar el aumento de la indentación."
      ]
    },
    {
      "cell_type": "markdown",
      "metadata": {},
      "source": [
        "## Lógica booleana\n"
      ]
    },
    {
      "cell_type": "markdown",
      "metadata": {},
      "source": [
        "La lógica booleana se utiliza para crear condiciones más complicadas para declaraciones if que se basan en más de una condición.\n",
        "\n",
        "Los operadores booleanos de Python son: and, or, and not.\n"
      ]
    },
    {
      "cell_type": "markdown",
      "metadata": {},
      "source": [
        "### And"
      ]
    },
    {
      "cell_type": "markdown",
      "metadata": {},
      "source": [
        "\n",
        "El operador and toma dos argumentos y se evalúa como True si, y solo si, sus dos argumentos son True. De lo contrario, se evalúa como False."
      ]
    },
    {
      "cell_type": "code",
      "execution_count": 32,
      "metadata": {},
      "outputs": [
        {
          "name": "stdout",
          "output_type": "stream",
          "text": [
            "True\n",
            "False\n",
            "False\n",
            "False\n"
          ]
        }
      ],
      "source": [
        "print(1 == 1 and 2 == 2)\n",
        "\n",
        "print(1 == 1 and 2 == 3)\n",
        "\n",
        "print(1 != 1 and 2 == 2)\n",
        "\n",
        "print(2 < 1 and 3 >  6)"
      ]
    },
    {
      "cell_type": "markdown",
      "metadata": {},
      "source": [
        "La humedad relativa confortable para el ser humano está entre el 40% y el 60%.\n",
        "El programa dado toma el porcentaje de humedad como entrada.\n",
        "\n",
        "Tarea\n",
        "Completa el código para generar \"norm\" si el porcentaje de humedad tomado está en el rango de 40 y 60 inclusive.\n",
        "No generes nada de lo contrario.\n",
        "\n",
        "Ejemplo de entrada\n",
        "45\n",
        "\n",
        "Ejemplo de salida\n",
        "norm"
      ]
    },
    {
      "cell_type": "code",
      "execution_count": 33,
      "metadata": {},
      "outputs": [
        {
          "name": "stdout",
          "output_type": "stream",
          "text": [
            "norm\n"
          ]
        }
      ],
      "source": [
        "humidity = int(input())\n",
        "if ((humidity >= 40)and(humidity<=60)):\n",
        "    print (\"norm\")"
      ]
    },
    {
      "cell_type": "code",
      "execution_count": 34,
      "metadata": {},
      "outputs": [
        {
          "name": "stdout",
          "output_type": "stream",
          "text": [
            "norm\n"
          ]
        }
      ],
      "source": [
        "# Tomamos el porcentaje de humedad como entrada\n",
        "humedad = int(input())\n",
        "\n",
        "# Verificamos si el porcentaje de humedad está en el rango 40-60 inclusive\n",
        "if 40 <= humedad <= 60:\n",
        "    print(\"norm\")"
      ]
    },
    {
      "cell_type": "markdown",
      "metadata": {},
      "source": [
        "### Or"
      ]
    },
    {
      "cell_type": "markdown",
      "metadata": {},
      "source": [
        "El operador or también toma dos argumentos. \n",
        "\n",
        "Se evalúa como True si alguno (o ambos) de sus argumentos son True y False si ambos argumentos son False."
      ]
    },
    {
      "cell_type": "code",
      "execution_count": 35,
      "metadata": {},
      "outputs": [
        {
          "name": "stdout",
          "output_type": "stream",
          "text": [
            "True\n",
            "True\n",
            "True\n",
            "False\n"
          ]
        }
      ],
      "source": [
        "print(1 == 1 or 2 == 2)\n",
        "\n",
        "print(1 == 1 or 2 == 3)\n",
        "\n",
        "print(1 != 1 or 2 == 2)\n",
        "\n",
        "print(2 < 1 or 3 >  6)"
      ]
    },
    {
      "cell_type": "markdown",
      "metadata": {},
      "source": [
        "### Not"
      ]
    },
    {
      "cell_type": "markdown",
      "metadata": {},
      "source": [
        "A diferencia de otros operadores que hemos visto hasta ahora, not solo toma un argumento y lo invierte.\n",
        "\n",
        "El resultado de not True es False, y not False va a True."
      ]
    },
    {
      "cell_type": "code",
      "execution_count": 36,
      "metadata": {},
      "outputs": [
        {
          "name": "stdout",
          "output_type": "stream",
          "text": [
            "False\n",
            "True\n"
          ]
        }
      ],
      "source": [
        "print(not 1 == 1)\n",
        "\n",
        "print(not 1 > 7)"
      ]
    },
    {
      "cell_type": "markdown",
      "metadata": {},
      "source": [
        "## Precedente del operador\n"
      ]
    },
    {
      "cell_type": "markdown",
      "metadata": {},
      "source": [
        "El precedente del operador es un concepto muy importante en la programación. \n",
        "\n",
        "Es una extensión de la idea matemática del orden de las operaciones (la multiplicación se realiza antes de la suma, etc.) para incluir otros operadores, como los de la lógica booleana.\n",
        "\n",
        "El siguiente código muestra que == tiene una mayor precedencia que or:"
      ]
    },
    {
      "cell_type": "markdown",
      "metadata": {},
      "source": [
        "El orden de las operaciones de Python es el mismo que el de las matemáticas normales: \n",
        "\n",
        "<u>primero los paréntesis, luego la exponenciación, luego la multiplicación/división, y luego la suma/resta."
      ]
    },
    {
      "cell_type": "markdown",
      "metadata": {},
      "source": [
        "Puedes encadenar varias declaraciones condicionales en una declaración if utilizando los operadores booleanos.\n",
        "\n",
        "Por ejemplo, podemos verificar si el valor de una calificación está entre 70 y 100:"
      ]
    },
    {
      "cell_type": "code",
      "execution_count": 38,
      "metadata": {},
      "outputs": [
        {
          "name": "stdout",
          "output_type": "stream",
          "text": [
            "¡Aprobado!\n"
          ]
        }
      ],
      "source": [
        "grade = 88\n",
        "if(grade >= 70 and grade <= 100):\n",
        "    print(\"¡Aprobado!\") "
      ]
    },
    {
      "cell_type": "markdown",
      "metadata": {},
      "source": [
        "A través de un cajero automático, los clientes pueden acceder a sus depósitos bancarios o a sus cuentas de crédito para realizar diversas operaciones financieras.\n",
        "Tu servicio de cajeros automáticos solo acepta tarjetas Visa y Amex.\n",
        "El programa dado toma el tipo de tarjeta bancaria como entrada.\n",
        "\n",
        "Tarea\n",
        "Completa el programa para generar \"accepted\" si la tarjeta es Visa o Amex.\n",
        "No generes nada de lo contrario.\n",
        "\n",
        "Ejemplo de entrada\n",
        "Amex\n",
        "\n",
        "Ejemplo de salida\n",
        "accepted"
      ]
    },
    {
      "cell_type": "code",
      "execution_count": 39,
      "metadata": {},
      "outputs": [
        {
          "name": "stdout",
          "output_type": "stream",
          "text": [
            "accepted\n"
          ]
        }
      ],
      "source": [
        "type = input()\n",
        "if type == \"Amex\" or type==\"Visa\":\n",
        "    print (\"accepted\")"
      ]
    },
    {
      "cell_type": "markdown",
      "metadata": {},
      "source": [
        "## Listas"
      ]
    },
    {
      "cell_type": "markdown",
      "metadata": {},
      "source": [
        "### General"
      ]
    },
    {
      "cell_type": "markdown",
      "metadata": {},
      "source": [
        "Las listas se utilizan para almacenar varios elementos.\n",
        "\n",
        "Se crea una lista utilizando corchetes con comas que separan los elementos."
      ]
    },
    {
      "cell_type": "markdown",
      "metadata": {},
      "source": [
        "words = [\"¡\",  \"Hola\", \"mundo\", \"!\"]"
      ]
    },
    {
      "cell_type": "markdown",
      "metadata": {},
      "source": [
        "La lista de palabras contiene cuatro elementos de cadena.\n",
        "\n",
        "Se puede acceder a un determinado elemento de la lista utilizando su índice entre corchetes.\n",
        "\n",
        "Por ejemplo:"
      ]
    },
    {
      "cell_type": "code",
      "execution_count": 40,
      "metadata": {},
      "outputs": [
        {
          "name": "stdout",
          "output_type": "stream",
          "text": [
            "Hello\n",
            "world\n",
            "!\n"
          ]
        }
      ],
      "source": [
        "words = [\"Hello\", \"world\", \"!\"]\n",
        "print(words[0])\n",
        "print(words[1])\n",
        "print(words[2]) "
      ]
    },
    {
      "cell_type": "markdown",
      "metadata": {},
      "source": [
        "<u>El índice del primer elemento de la lista es 0, en lugar de 1, como podría esperarse."
      ]
    },
    {
      "cell_type": "markdown",
      "metadata": {},
      "source": [
        "A veces es necesario crear una lista vacía y completarla más tarde durante el programa. Por ejemplo, si está creando un programa de gestión de colas, la cola estará vacía al principio y se completará con datos de personas más tarde.\n",
        "\n",
        "Se crea una lista vacía con un par de corchetes vacíos."
      ]
    },
    {
      "cell_type": "code",
      "execution_count": 41,
      "metadata": {},
      "outputs": [
        {
          "name": "stdout",
          "output_type": "stream",
          "text": [
            "[]\n"
          ]
        }
      ],
      "source": [
        "empty_list = []\n",
        "print(empty_list)"
      ]
    },
    {
      "cell_type": "markdown",
      "metadata": {},
      "source": [
        "Imagina una máquina expendedora que vende frutas. Cada fruta tiene su propio número, empezando por el 0.\n",
        "\n",
        "Escribe un programa para la máquina expendedora, que tomará un número n como entrada del cliente y devolverá la fruta con ese índice"
      ]
    },
    {
      "cell_type": "markdown",
      "metadata": {},
      "source": [
        "Si n< 0 or n>7 (el índice de la última fruta ), el programa sacará \"Número equivocado\""
      ]
    },
    {
      "cell_type": "code",
      "execution_count": 42,
      "metadata": {},
      "outputs": [
        {
          "name": "stdout",
          "output_type": "stream",
          "text": [
            "banana\n"
          ]
        }
      ],
      "source": [
        "fruits = [\"apple\", \"cherry\", \"banana\", \"kiwi\", \"lemon\", \"pear\", \"peach\", \"avocado\"]\n",
        "n = int(input())\n",
        "if n<0 or n>7:\n",
        "    print (\"Wrong number\")\n",
        "else:\n",
        "    print (fruits[n])"
      ]
    },
    {
      "cell_type": "markdown",
      "metadata": {},
      "source": []
    },
    {
      "cell_type": "markdown",
      "metadata": {},
      "source": [
        "Normalmente, una lista contendrá elementos de un solo tipo de elemento, pero también es posible incluir varios tipos diferentes.\n",
        "\n",
        "Las listas también se pueden anidar dentro de otras listas."
      ]
    },
    {
      "cell_type": "code",
      "execution_count": 44,
      "metadata": {},
      "outputs": [
        {
          "name": "stdout",
          "output_type": "stream",
          "text": [
            "0\n",
            "[1, 2, 3]\n",
            "3\n"
          ]
        }
      ],
      "source": [
        "number = 3\n",
        "things = [\"string\", 0, [1, 2, number], 4.56]\n",
        "print(things[1])\n",
        "print(things[2])\n",
        "print(things[2][2])"
      ]
    },
    {
      "cell_type": "markdown",
      "metadata": {},
      "source": [
        "\t•\tprint(things[1]): Aquí accedemos al segundo elemento de la lista things, que es 0. Por lo tanto, la salida será: 0\n",
        "\t•\tprint(things[2]): Aquí accedemos al tercer elemento de la lista things, que es la lista [1, 2, 3]. La salida será: [1,2,3]\n",
        "\t•\tprint(things[2][2]): En esta línea, primero accedemos al tercer elemento de things, que es la lista [1, 2, 3], y luego accedemos al tercer elemento de esa lista (índice 2), que es 3. Por lo tanto, la salida será: 3"
      ]
    },
    {
      "cell_type": "markdown",
      "metadata": {},
      "source": []
    },
    {
      "cell_type": "markdown",
      "metadata": {},
      "source": [
        "Las listas anidadas se pueden utilizar para representar cuadrículas 2D, como matrices.\n",
        "\n"
      ]
    },
    {
      "cell_type": "code",
      "execution_count": 45,
      "metadata": {
        "vscode": {
          "languageId": "javascript"
        }
      },
      "outputs": [
        {
          "name": "stdout",
          "output_type": "stream",
          "text": [
            "6\n"
          ]
        }
      ],
      "source": [
        "m = [\n",
        "    [1,2,3],\n",
        "    [4,5,6]\n",
        "    ]\n",
        "    \n",
        "print(m[1][2]) "
      ]
    },
    {
      "cell_type": "markdown",
      "metadata": {},
      "source": [
        "En aquest cas m[1][2] va a buscar la segona filera (1) la tercera columna (2) que es 6"
      ]
    },
    {
      "cell_type": "markdown",
      "metadata": {},
      "source": [
        "Se puede usar una estructura tipo matriz en los casos en que necesites almacenar datos en formato de fila-columna. Por ejemplo, al crear un programa de venta de entradas, los números de asiento se pueden almacenar en una matriz, con sus filas y números correspondientes."
      ]
    },
    {
      "cell_type": "markdown",
      "metadata": {},
      "source": [
        "Algunos tipos, como las cadenas, se pueden indexar como listas.\n",
        "\n",
        "La indexación de cadenas se comporta como si estuviera indexando una lista que contiene cada carácter de la cadena"
      ]
    },
    {
      "cell_type": "code",
      "execution_count": 46,
      "metadata": {},
      "outputs": [
        {
          "name": "stdout",
          "output_type": "stream",
          "text": [
            "m\n"
          ]
        }
      ],
      "source": [
        "str = \"¡Hola mundo!\"\n",
        "print(str[6]) "
      ]
    },
    {
      "cell_type": "markdown",
      "metadata": {},
      "source": [
        "<u>El espacio (\" \") también es un símbolo y tiene un índice."
      ]
    },
    {
      "cell_type": "markdown",
      "metadata": {},
      "source": [
        "### Operaciones de lista\n"
      ]
    },
    {
      "cell_type": "markdown",
      "metadata": {},
      "source": [
        "El elemento en un índice determinado en una lista se puede reasignar.\n",
        "\n",
        "Por ejemplo:\n"
      ]
    },
    {
      "cell_type": "code",
      "execution_count": 47,
      "metadata": {
        "vscode": {
          "languageId": "javascript"
        }
      },
      "outputs": [
        {
          "name": "stdout",
          "output_type": "stream",
          "text": [
            "[7, 7, 5, 7, 7]\n"
          ]
        }
      ],
      "source": [
        "nums = [7, 7, 7, 7, 7]\n",
        "nums[2] = 5\n",
        "print(nums)"
      ]
    },
    {
      "cell_type": "code",
      "execution_count": 48,
      "metadata": {
        "vscode": {
          "languageId": "javascript"
        }
      },
      "outputs": [
        {
          "name": "stdout",
          "output_type": "stream",
          "text": [
            "2\n"
          ]
        }
      ],
      "source": [
        "nums = [1, 2, 3, 4, 5]\n",
        "nums[3] = nums[1]\n",
        "print(nums[3])\n",
        "\n"
      ]
    },
    {
      "cell_type": "markdown",
      "metadata": {
        "vscode": {
          "languageId": "javascript"
        }
      },
      "source": [
        "Las listas se pueden agregar y multiplicar de la misma manera que las cadenas."
      ]
    },
    {
      "cell_type": "code",
      "execution_count": 50,
      "metadata": {},
      "outputs": [
        {
          "name": "stdout",
          "output_type": "stream",
          "text": [
            "[1, 2, 3, 4, 5, 6]\n",
            "[1, 2, 3, 1, 2, 3, 1, 2, 3]\n"
          ]
        }
      ],
      "source": [
        "nums = [1, 2, 3]\n",
        "print(nums + [4, 5, 6])\n",
        "print(nums * 3)"
      ]
    },
    {
      "cell_type": "markdown",
      "metadata": {
        "vscode": {
          "languageId": "javascript"
        }
      },
      "source": [
        "Para verificar si un elemento está en una lista, se puede usar el operador in.\n",
        "\n",
        "Este devuelve True si el elemento aparece una o más veces en la lista y False si no es así."
      ]
    },
    {
      "cell_type": "code",
      "execution_count": 51,
      "metadata": {},
      "outputs": [
        {
          "name": "stdout",
          "output_type": "stream",
          "text": [
            "True\n",
            "True\n",
            "False\n"
          ]
        }
      ],
      "source": [
        "words = [\"spam\", \"egg\", \"spam\", \"sausage\"]\n",
        "print(\"spam\" in words)\n",
        "print(\"egg\" in words)\n",
        "print(\"tomato\" in words)"
      ]
    },
    {
      "cell_type": "markdown",
      "metadata": {},
      "source": [
        "<b><u>EXERCICI"
      ]
    },
    {
      "cell_type": "markdown",
      "metadata": {},
      "source": [
        "Dada una lista de números, la salida \"bingo\" si contiene el número de entrada."
      ]
    },
    {
      "cell_type": "code",
      "execution_count": 53,
      "metadata": {},
      "outputs": [
        {
          "name": "stdout",
          "output_type": "stream",
          "text": [
            "bingo\n"
          ]
        }
      ],
      "source": [
        "items = [42, 88, 721, 12, 43, 22, 908]\n",
        " \n",
        "num = int(input())\n",
        "if num in items:\n",
        "    print (\"bingo\")"
      ]
    },
    {
      "cell_type": "markdown",
      "metadata": {},
      "source": []
    },
    {
      "cell_type": "markdown",
      "metadata": {},
      "source": [
        "Para comprobar si un elemento no está en una lista, puede utilizar el operador not de una de las siguientes formas:"
      ]
    },
    {
      "cell_type": "code",
      "execution_count": 54,
      "metadata": {},
      "outputs": [
        {
          "name": "stdout",
          "output_type": "stream",
          "text": [
            "True\n",
            "True\n",
            "False\n",
            "False\n"
          ]
        }
      ],
      "source": [
        "nums = [1, 2, 3]\n",
        "print(not 4 in nums)\n",
        "print(4 not in nums)\n",
        "print(not 3 in nums)\n",
        "print(3 not in nums)"
      ]
    },
    {
      "cell_type": "markdown",
      "metadata": {},
      "source": [
        "### Funciones de lista"
      ]
    },
    {
      "cell_type": "markdown",
      "metadata": {},
      "source": [
        "El método de los apéndices añade un elemento al final de una lista existente."
      ]
    },
    {
      "cell_type": "code",
      "execution_count": 55,
      "metadata": {},
      "outputs": [
        {
          "name": "stdout",
          "output_type": "stream",
          "text": [
            "[1, 2, 3, 4]\n"
          ]
        }
      ],
      "source": [
        "nums = [1, 2, 3]\n",
        "nums.append(4)\n",
        "print(nums)"
      ]
    },
    {
      "cell_type": "markdown",
      "metadata": {},
      "source": [
        "El punto antes del apéndice está ahí porque es un método de la clase de la lista. Los métodos se explicarán en una lección posterior."
      ]
    },
    {
      "cell_type": "markdown",
      "metadata": {},
      "source": [
        "<u>Para obtener el número de elementos de una lista, puede utilizar la función len."
      ]
    },
    {
      "cell_type": "code",
      "execution_count": 56,
      "metadata": {},
      "outputs": [
        {
          "name": "stdout",
          "output_type": "stream",
          "text": [
            "5\n"
          ]
        }
      ],
      "source": [
        "nums = [1, 3, 5, 2, 4]\n",
        "print(len(nums))"
      ]
    },
    {
      "cell_type": "markdown",
      "metadata": {},
      "source": [
        "<u>A diferencia del índice de los artículos, la len no empieza con 0. Así que la lista de arriba contiene 5 artículos, lo que significa que la len devolverá 5."
      ]
    },
    {
      "cell_type": "markdown",
      "metadata": {},
      "source": [
        "El método de inserción es similar al de los apéndices, salvo que permite insertar un nuevo elemento en cualquier posición de la lista, en lugar de sólo al final."
      ]
    },
    {
      "cell_type": "code",
      "execution_count": 57,
      "metadata": {},
      "outputs": [
        {
          "name": "stdout",
          "output_type": "stream",
          "text": [
            "['Python', 'is', 'fun']\n"
          ]
        }
      ],
      "source": [
        "words = [\"Python\", \"fun\"]\n",
        "index = 1\n",
        "words.insert(index, \"is\")\n",
        "print(words) "
      ]
    },
    {
      "cell_type": "markdown",
      "metadata": {},
      "source": [
        "El método del índice encuentra la primera aparición de un elemento de la lista y devuelve su índice.\n",
        "\n",
        "Si el elemento no está en la lista, muestra un ValueError."
      ]
    },
    {
      "cell_type": "code",
      "execution_count": 59,
      "metadata": {},
      "outputs": [
        {
          "name": "stdout",
          "output_type": "stream",
          "text": [
            "2\n",
            "0\n"
          ]
        }
      ],
      "source": [
        "letters = ['p', 'q', 'r', 's', 'p', 'u']\n",
        "print(letters.index('r'))\n",
        "print(letters.index('p'))"
      ]
    },
    {
      "cell_type": "markdown",
      "metadata": {},
      "source": [
        "el .index indica a quina posicio de la llista esta l'element"
      ]
    },
    {
      "cell_type": "markdown",
      "metadata": {},
      "source": [
        "<u>Hay algunas más funciones y métodos útiles para las listas.</u>\n",
        "\n",
        "max(list): Devuelve el elemento de la lista con el valor máximo\n",
        "\n",
        "min(list): Devuelve el elemento de la lista con un valor mínimo\n",
        "\n",
        "list.count(item): Devuelve un recuento de cuántas veces aparece un elemento en una lista\n",
        "\n",
        "list.remove(item): Elimina un objeto de una lista\n",
        "\n",
        "list.reverse(): Invierte elementos en una lista."
      ]
    },
    {
      "cell_type": "markdown",
      "metadata": {},
      "source": [
        "\t•\tlen() devuelve el número total de elementos en la secuencia.\n",
        "\t•\tcount(elemento) devuelve cuántas veces aparece un elemento específico en la secuencia."
      ]
    },
    {
      "cell_type": "markdown",
      "metadata": {},
      "source": [
        "## Bucles while"
      ]
    },
    {
      "cell_type": "markdown",
      "metadata": {},
      "source": [
        "Un bucle while se usa para repetir un bloque de código varias veces.\n",
        "\n",
        "Por ejemplo, supongamos que necesitamos procesar múltiples entradas de usuario, de modo que cada vez que el usuario ingresa algo, se debe ejecutar el mismo bloque de código.\n",
        "\n",
        "A continuación se muestra un bucle while que contiene una variable que cuenta de 1 a 5, momento en el cual el bucle termina."
      ]
    },
    {
      "cell_type": "code",
      "execution_count": 60,
      "metadata": {},
      "outputs": [
        {
          "name": "stdout",
          "output_type": "stream",
          "text": [
            "1\n",
            "2\n",
            "3\n",
            "4\n",
            "5\n",
            "Finished!\n"
          ]
        }
      ],
      "source": [
        "i = 1\n",
        "while i <=5:\n",
        "    print(i)\n",
        "    i = i + 1\n",
        "\n",
        "print(\"Finished!\")"
      ]
    },
    {
      "cell_type": "markdown",
      "metadata": {},
      "source": [
        "El código en el cuerpo de un bucle while se ejecuta repetidamente. Esto se llama iteración."
      ]
    },
    {
      "cell_type": "markdown",
      "metadata": {},
      "source": [
        "<b>Exercici"
      ]
    },
    {
      "cell_type": "markdown",
      "metadata": {},
      "source": [
        "Tienes una caja mágica que duplica la cantidad de objetos que metes cada día.\n",
        "\n",
        "El programa dado toma como entrada el recuento inicial de los artículos y el número de días.\n",
        "\n",
        "\n",
        "Tarea\n",
        "\n",
        "Escriba un programa para calcular y generar el recuento de artículos en el último día.\n",
        "\n",
        "Ejemplo de entrada\n",
        "\n",
        "3\n",
        "\n",
        "2\n",
        "\n",
        "Ejemplo de salida\n",
        "\n",
        "12\n",
        "\n",
        "Explicación\n",
        "\n",
        "Day 1: 6 (3*2)\n",
        "\n",
        "Day 2: 12 (6*2)"
      ]
    },
    {
      "cell_type": "code",
      "execution_count": 62,
      "metadata": {},
      "outputs": [
        {
          "name": "stdout",
          "output_type": "stream",
          "text": [
            "12\n"
          ]
        }
      ],
      "source": [
        "items = int(input())\n",
        "days = int(input())\n",
        "#tu código va aquí\n",
        "current_day = 0\n",
        "\n",
        "# Bucle while para duplicar los artículos cada día\n",
        "while current_day < days:\n",
        "    items *= 2          # Duplica los artículos\n",
        "    current_day += 1    # Incrementa el día\n",
        "\n",
        "# Imprimir el resultado final\n",
        "print(items)"
      ]
    },
    {
      "attachments": {
        "image.png": {
          "image/png": "[encoded data removed]"
        }
      },
      "cell_type": "markdown",
      "metadata": {},
      "source": [
        "![image.png](attachment:image.png)"
      ]
    },
    {
      "cell_type": "code",
      "execution_count": 63,
      "metadata": {},
      "outputs": [
        {
          "name": "stdout",
          "output_type": "stream",
          "text": [
            "3\n",
            "2\n",
            "1\n",
            "0\n"
          ]
        }
      ],
      "source": [
        "i = 3\n",
        "while i>=0:\n",
        "    print(i)\n",
        "    i = i - 1\n",
        "\n",
        "\n"
      ]
    },
    {
      "cell_type": "markdown",
      "metadata": {},
      "source": [
        "Puedes utilizar varias declaraciones en el bucle \"while\".\n",
        "\n",
        "Por ejemplo, puede usar una declaración if para tomar decisiones. Esto puede ser útil si está creando un juego y necesita recorrer una serie de acciones del jugador y agregar o eliminar puntos del jugador.\n",
        "\n",
        "El siguiente código utiliza una instrucción if / else dentro de un bucle \"while\" para separar los números pares e impares en el rango de 1 a 10:"
      ]
    },
    {
      "cell_type": "code",
      "execution_count": 1,
      "metadata": {},
      "outputs": [
        {
          "name": "stdout",
          "output_type": "stream",
          "text": [
            "1 is odd\n",
            "2 is even\n",
            "3 is odd\n",
            "4 is even\n",
            "5 is odd\n",
            "6 is even\n",
            "7 is odd\n",
            "8 is even\n",
            "9 is odd\n"
          ]
        }
      ],
      "source": [
        "x = 1\n",
        "while x < 10:\n",
        "    if x%2 == 0:\n",
        "        print(str(x) + \" is even\")\n",
        "    else:\n",
        "        print(str(x) + \" is odd\")\n",
        "    x += 1"
      ]
    },
    {
      "cell_type": "markdown",
      "metadata": {},
      "source": [
        "<u><b>RECORDATORI"
      ]
    },
    {
      "cell_type": "markdown",
      "metadata": {},
      "source": [
        "str es una función incorporada en Python que se utiliza para convertir otros tipos de datos en cadenas de texto (strings). \n",
        "\n",
        "Por ejemplo, si tienes un número o un valor booleano, puedes usar str() para convertirlo en su representación textual."
      ]
    },
    {
      "cell_type": "code",
      "execution_count": 2,
      "metadata": {},
      "outputs": [
        {
          "name": "stdout",
          "output_type": "stream",
          "text": [
            "123\n"
          ]
        }
      ],
      "source": [
        "num = 123\n",
        "text = str(num)  # Convierte el número en una cadena\n",
        "print(text)      # Imprime \"123\""
      ]
    },
    {
      "cell_type": "markdown",
      "metadata": {},
      "source": [
        "En este ejemplo, el número 123 se convierte en la cadena \"123\", gracias a la función str()."
      ]
    },
    {
      "cell_type": "markdown",
      "metadata": {},
      "source": [
        "### Break"
      ]
    },
    {
      "cell_type": "markdown",
      "metadata": {},
      "source": [
        "Para finalizar un bucle while prematuramente, se puede usar la declaración break.\n",
        "\n",
        "Por ejemplo, podemos romper un bucle infinito si se cumple alguna condición:"
      ]
    },
    {
      "cell_type": "code",
      "execution_count": 3,
      "metadata": {},
      "outputs": [
        {
          "name": "stdout",
          "output_type": "stream",
          "text": [
            "0\n",
            "1\n",
            "2\n",
            "3\n",
            "4\n",
            "Breaking\n",
            "Finished\n"
          ]
        }
      ],
      "source": [
        "i = 0\n",
        "while 1==1:\n",
        "    print(i)\n",
        "    i = i + 1\n",
        "    if i >= 5:\n",
        "        print(\"Breaking\")\n",
        "        break\n",
        "\n",
        "print(\"Finished\")"
      ]
    },
    {
      "cell_type": "markdown",
      "metadata": {},
      "source": [
        "mientras que True es una forma corta y fácil de hacer un bucle infinito."
      ]
    },
    {
      "cell_type": "markdown",
      "metadata": {},
      "source": [
        "<u><b>Un ejemplo de caso de uso de break:</u></b>\n",
        "\n",
        "Se puede usar un bucle \"while\" infinito para tomar continuamente la entrada del usuario. \n",
        "\n",
        "Por ejemplo, está haciendo una calculadora y necesita tomar números del usuario para agregar y detener, cuando el usuario ingresa \"detener\".\n",
        "\n",
        "En este caso, la declaración break se puede utilizar para finalizar el bucle infinito cuando la entrada del usuario es igual a \"detener\".\n",
        "\n"
      ]
    },
    {
      "cell_type": "markdown",
      "metadata": {},
      "source": [
        "<u>El uso de la declaración break fuera de un bucle provoca un error.\n",
        "\n"
      ]
    },
    {
      "cell_type": "markdown",
      "metadata": {},
      "source": [
        "### continue"
      ]
    },
    {
      "cell_type": "markdown",
      "metadata": {},
      "source": [
        "Otra declaración que se puede utilizar dentro de los bucles es continue.\n",
        "\n",
        "A diferencia de break, continue salta de nuevo a la parte superior del bucle, en lugar de detenerlo. Básicamente, la declaración continue detiene la iteración actual y continúa con la siguiente."
      ]
    },
    {
      "cell_type": "code",
      "execution_count": 4,
      "metadata": {},
      "outputs": [
        {
          "name": "stdout",
          "output_type": "stream",
          "text": [
            "1\n",
            "2\n",
            "Skipping 3\n",
            "3\n",
            "4\n",
            "5\n"
          ]
        }
      ],
      "source": [
        "i = 1\n",
        "while i<=5:\n",
        "  print(i)\n",
        "  i+=1\n",
        "  if i==3:\n",
        "    print(\"Skipping 3\")\n",
        "    continue"
      ]
    },
    {
      "cell_type": "markdown",
      "metadata": {},
      "source": [
        "Un ejemplo de caso de uso de continue:\n",
        "\n",
        "El sistema de emisión de boletos de una aerolínea necesita calcular el costo total de todos los billetes comprados. Las entradas para niños menores de 1 año son gratuitas. Podemos usar un bucle while para recorrer la lista de pasajeros y calcular el coste total de sus billetes. Aquí, la instrucción continue se puede usar para omitir a los niños."
      ]
    },
    {
      "cell_type": "markdown",
      "metadata": {},
      "source": [
        "## Bucles for"
      ]
    },
    {
      "cell_type": "markdown",
      "metadata": {},
      "source": [
        "El bucle for se utiliza para iterar sobre una secuencia determinada, como listas.\n",
        "\n",
        "El siguiente código muestra cada elemento de la lista y agrega un signo de exclamación al final:"
      ]
    },
    {
      "cell_type": "code",
      "execution_count": 6,
      "metadata": {},
      "outputs": [
        {
          "name": "stdout",
          "output_type": "stream",
          "text": [
            "hello!\n",
            "world!\n",
            "spam!\n",
            "eggs!\n"
          ]
        }
      ],
      "source": [
        "words = [\"hello\", \"world\", \"spam\", \"eggs\"]\n",
        "for word in words:\n",
        "    print(word + \"!\")"
      ]
    },
    {
      "cell_type": "markdown",
      "metadata": {},
      "source": [
        "El bucle for se puede usar para iterar sobre cadenas.\n",
        "\n"
      ]
    },
    {
      "cell_type": "code",
      "execution_count": 7,
      "metadata": {},
      "outputs": [
        {
          "name": "stdout",
          "output_type": "stream",
          "text": [
            "2\n"
          ]
        }
      ],
      "source": [
        "str = \"testing for loops\"\n",
        "count = 0\n",
        "\n",
        "for x in str:\n",
        "   if(x == 't'):\n",
        "    count += 1\n",
        "\n",
        "print(count)"
      ]
    },
    {
      "cell_type": "markdown",
      "metadata": {},
      "source": [
        "El código anterior define una variable de recuento, itera sobre la cadena y calcula el recuento de letras 't' en ella. Durante cada iteración, la variable x representa la letra actual de la cadena.\n",
        "\n",
        "La variable de recuento se incrementa cada vez que se encuentra la letra 't', por lo tanto, al final del ciclo representa el número de letras 't' en la cadena."
      ]
    },
    {
      "cell_type": "markdown",
      "metadata": {},
      "source": [
        "<u>De manera similar a los bucles while, las declaraciones break y continue se pueden utilizar en bucles for para detener el bucle o saltar a la siguiente iteración."
      ]
    },
    {
      "cell_type": "code",
      "execution_count": 11,
      "metadata": {},
      "outputs": [
        {
          "name": "stdout",
          "output_type": "stream",
          "text": [
            "5\n"
          ]
        }
      ],
      "source": [
        "list = [2, 3, 4, 5, 6, 7]\n",
        "\n",
        "for x in list:\n",
        "    if(x%2==1 and x>4):\n",
        "        print(x)\n",
        "        break"
      ]
    },
    {
      "cell_type": "markdown",
      "metadata": {},
      "source": [
        "<b>x%2==1 es equivalent a dir \"busca'm els numeros imparells\"\n",
        "\n",
        "x%2==0 es equivalent a dir \"busca'm els numeros parells\""
      ]
    },
    {
      "cell_type": "markdown",
      "metadata": {},
      "source": [
        "Los bucles for y while se pueden utilizar para ejecutar un bloque de código varias veces.\n",
        "\n",
        "Es común usar el bucle for cuando el número de iteraciones es fijo. Por ejemplo, iterar sobre una lista fija de artículos en una lista de compras.\n",
        "\n",
        "El ciclo while se usa en casos en los que no se conoce el número de iteraciones y depende de algunos cálculos y condiciones en el bloque de código del ciclo.\n",
        "Por ejemplo, finalizar el ciclo cuando el usuario ingresa una entrada específica en un programa de calculadora."
      ]
    },
    {
      "cell_type": "markdown",
      "metadata": {},
      "source": [
        "<u><b>Se pueden usar los bucles for y while para lograr los mismos resultados, sin embargo, el bucle for tiene una sintaxis más limpia y corta, lo que lo convierte en una mejor opción en la mayoría de los casos."
      ]
    },
    {
      "cell_type": "markdown",
      "metadata": {},
      "source": [
        "Los bucles for permiten iterar fácilmente a través de las listas.\n",
        "\n",
        "Dada una lista de números, saca su suma.\n"
      ]
    },
    {
      "cell_type": "code",
      "execution_count": 12,
      "metadata": {},
      "outputs": [
        {
          "name": "stdout",
          "output_type": "stream",
          "text": [
            "45\n"
          ]
        }
      ],
      "source": [
        "list = [1, 2, 3, 4, 5, 6, 7, 8, 9]\n",
        " \n",
        "sum = 0\n",
        "#tu código va aquí\n",
        "for num in list:\n",
        "    sum += num  # sumando cada número al total\n",
        "\n",
        "print(sum)"
      ]
    },
    {
      "cell_type": "markdown",
      "metadata": {},
      "source": [
        "## Range"
      ]
    },
    {
      "cell_type": "markdown",
      "metadata": {},
      "source": [
        "La función range() devuelve una secuencia de números.\n",
        "\n",
        "De forma predeterminada, comienza desde 0, se incrementa en 1 y se detiene antes del número especificado.\n",
        "\n",
        "El siguiente código genera una lista que contiene todos los números enteros, hasta 10."
      ]
    },
    {
      "cell_type": "code",
      "execution_count": 2,
      "metadata": {},
      "outputs": [
        {
          "name": "stdout",
          "output_type": "stream",
          "text": [
            "[0, 1, 2, 3, 4, 5, 6, 7, 8, 9]\n"
          ]
        }
      ],
      "source": [
        "numbers = list(range(10))\n",
        "print(numbers)"
      ]
    },
    {
      "cell_type": "markdown",
      "metadata": {},
      "source": [
        "Si se llama a range con un argumento, produce un objeto con valores de 0 a ese argumento.\n",
        "\n",
        "Si se llama con dos argumentos, produce valores del primero al segundo.\n",
        "\n",
        "Por ejemplo:"
      ]
    },
    {
      "cell_type": "code",
      "execution_count": 3,
      "metadata": {},
      "outputs": [
        {
          "name": "stdout",
          "output_type": "stream",
          "text": [
            "[3, 4, 5, 6, 7]\n",
            "True\n"
          ]
        }
      ],
      "source": [
        "numbers = list(range(3, 8))\n",
        "print(numbers)\n",
        "\n",
        "print(range(20) == range(0, 20))"
      ]
    },
    {
      "cell_type": "markdown",
      "metadata": {},
      "source": [
        "\t•\trange(3, 8) genera una secuencia de números que comienza en 3 y termina en 7. El valor final (8) no está incluido, ya que range excluye el valor superior.\n",
        "\t•\tlist() convierte esa secuencia en una lista. Entonces, el valor de numbers será [3, 4, 5, 6, 7]."
      ]
    },
    {
      "cell_type": "markdown",
      "metadata": {},
      "source": [
        "range(20) es equivalente a range(0, 20), ya que si no especificas un valor de inicio en range, automáticamente comienza desde 0.\n",
        "\n",
        "•\tAmbos range son equivalentes, por lo que la comparación devolverá True.\n"
      ]
    },
    {
      "cell_type": "markdown",
      "metadata": {},
      "source": [
        "<u><b>Recuerda, el segundo argumento no está incluido en el rango, por lo que el rango (3, 8) no incluirá el número 8."
      ]
    },
    {
      "cell_type": "code",
      "execution_count": 4,
      "metadata": {},
      "outputs": [
        {
          "name": "stdout",
          "output_type": "stream",
          "text": [
            "3\n"
          ]
        }
      ],
      "source": [
        "nums = list(range(5, 8))\n",
        "print(len(nums))"
      ]
    },
    {
      "cell_type": "markdown",
      "metadata": {},
      "source": [
        "El rango puede tener un tercer argumento, que determina el intervalo de la secuencia producida, también llamado el paso."
      ]
    },
    {
      "cell_type": "code",
      "execution_count": 5,
      "metadata": {},
      "outputs": [
        {
          "name": "stdout",
          "output_type": "stream",
          "text": [
            "[5, 7, 9, 11, 13, 15, 17, 19]\n"
          ]
        }
      ],
      "source": [
        "numbers = list(range(5, 20, 2))\n",
        "print(numbers)"
      ]
    },
    {
      "cell_type": "markdown",
      "metadata": {},
      "source": [
        "com es pot veure, comença del 5 fins al 20 de 2 en 2"
      ]
    },
    {
      "cell_type": "markdown",
      "metadata": {},
      "source": [
        "También podemos crear una lista de números decrecientes, usando un número negativo como tercer argumento, por ejemplo list (range (20, 5, -2))."
      ]
    },
    {
      "cell_type": "markdown",
      "metadata": {},
      "source": [
        "El bucle for se usa comúnmente para repetir un código un cierto número de veces. Esto se realiza combinando bucles con objetos de rango."
      ]
    },
    {
      "cell_type": "code",
      "execution_count": 6,
      "metadata": {},
      "outputs": [
        {
          "name": "stdout",
          "output_type": "stream",
          "text": [
            "hello!\n",
            "hello!\n",
            "hello!\n",
            "hello!\n",
            "hello!\n"
          ]
        }
      ],
      "source": [
        "for i in range(5):\n",
        "    print(\"hello!\")"
      ]
    },
    {
      "cell_type": "markdown",
      "metadata": {},
      "source": [
        "No es necesario llamar a list en el objeto de rango cuando se usa en un bucle for, porque no se está indexando, por lo que no se requiere una lista."
      ]
    },
    {
      "cell_type": "markdown",
      "metadata": {},
      "source": [
        "   Estás haciendo una selección de fechas para un sitio web y necesitas sacar todos los años en un período determinado.\n",
        "\n",
        "Escribe un programa que tome dos números enteros como entrada y que saque el rango de números entre las dos entradas como una lista.\n",
        "\n",
        "La secuencia de salida debe comenzar con el primer número de entrada y terminar con el segundo número de entrada, sin incluirlo."
      ]
    },
    {
      "cell_type": "code",
      "execution_count": 7,
      "metadata": {},
      "outputs": [
        {
          "name": "stdout",
          "output_type": "stream",
          "text": [
            "[1993, 1994, 1995, 1996, 1997, 1998, 1999, 2000, 2001, 2002, 2003, 2004, 2005, 2006, 2007, 2008, 2009, 2010, 2011, 2012, 2013, 2014, 2015, 2016, 2017, 2018, 2019, 2020]\n"
          ]
        }
      ],
      "source": [
        "inicio = int(input())\n",
        "fin = int(input())\n",
        "\n",
        "resultado = list(range(inicio, fin))\n",
        "print(resultado)"
      ]
    },
    {
      "cell_type": "markdown",
      "metadata": {},
      "source": [
        "## FizzBuzz"
      ]
    },
    {
      "cell_type": "markdown",
      "metadata": {},
      "source": [
        "FizzBuzz es una tarea de programación muy conocida, preguntada durante las entrevistas de trabajo.\n",
        "\n",
        "El código dado resuelve el problema de FizzBuzz y utiliza las palabras \"Solo\" y \"Learn\" en lugar de \"Fizz\" y \"Buzz\".\n",
        "\n",
        "Toma una entrada n y saca los números de 1 a n.\n",
        "\n",
        "Por cada múltiplo de 3, imprime \"Solo\" en lugar del número.\n",
        "\n",
        "Por cada múltiplo de 5, imprime \"Learn\" en lugar del número.\n",
        "\n",
        "Para los números que son múltiplos de 3 y 5, saca \"SoloLearn\".\n",
        "\n",
        "\n",
        "Es necesario cambiar el código para saltar los números pares, para que la lógica sólo se aplique a los números impares en el rango."
      ]
    },
    {
      "cell_type": "code",
      "execution_count": 13,
      "metadata": {},
      "outputs": [
        {
          "name": "stdout",
          "output_type": "stream",
          "text": [
            "1\n",
            "Solo\n",
            "Learn\n",
            "7\n",
            "Solo\n",
            "11\n",
            "13\n",
            "SoloLearn\n"
          ]
        }
      ],
      "source": [
        "n = int(input())\n",
        "for x in range(1, n):\n",
        "    if x % 2 == 0:\n",
        "        continue\n",
        "    if x % 3 == 0 and x % 5 == 0:\n",
        "        print(\"SoloLearn\")\n",
        "    elif x % 3 == 0:\n",
        "        print(\"Solo\")\n",
        "    elif x % 5 == 0:\n",
        "        print(\"Learn\")\n",
        "    else:\n",
        "        print(x)"
      ]
    },
    {
      "cell_type": "code",
      "execution_count": null,
      "metadata": {},
      "outputs": [],
      "source": []
    }
  ],
  "metadata": {
    "kernelspec": {
      "display_name": "Python 3",
      "language": "python",
      "name": "python3"
    },
    "language_info": {
      "codemirror_mode": {
        "name": "ipython",
        "version": 3
      },
      "file_extension": ".py",
      "mimetype": "text/x-python",
      "name": "python",
      "nbconvert_exporter": "python",
      "pygments_lexer": "ipython3",
      "version": "3.12.6"
    }
  },
  "nbformat": 4,
  "nbformat_minor": 4
}
